{
 "cells": [
  {
   "cell_type": "code",
   "execution_count": 33,
   "metadata": {},
   "outputs": [],
   "source": [
    "import pandas as pd\n",
    "import numpy as np\n",
    "    \n",
    "def has_duplicates(x):\n",
    "    return len(np.unique(x)) != len(x)\n",
    "\n",
    "def is_duplicate(val1, val2):\n",
    "    return val1 == val2\n",
    "\n",
    "def parse_file():\n",
    "    df = pd.read_excel(r\"/home/gdubs/Documents/projects_test/xsl_checker/files/data1.xlsx\")\n",
    "    print(df)\n",
    "    \n",
    "    for i, row in df.iterrows():\n",
    "        if(is_duplicate(row['valcheck1'], row['valcheck2'])):\n",
    "            print('duplicate')\n",
    "        else:\n",
    "            print('no dup')\n",
    "    \n",
    "\n",
    "\n",
    "parse_file()"
   ]
  },
  {
   "cell_type": "code",
   "execution_count": 29,
   "metadata": {},
   "outputs": [
    {
     "data": {
      "text/html": [
       "<div>\n",
       "<style scoped>\n",
       "    .dataframe tbody tr th:only-of-type {\n",
       "        vertical-align: middle;\n",
       "    }\n",
       "\n",
       "    .dataframe tbody tr th {\n",
       "        vertical-align: top;\n",
       "    }\n",
       "\n",
       "    .dataframe thead th {\n",
       "        text-align: right;\n",
       "    }\n",
       "</style>\n",
       "<table border=\"1\" class=\"dataframe\">\n",
       "  <thead>\n",
       "    <tr style=\"text-align: right;\">\n",
       "      <th></th>\n",
       "      <th>Unnamed: 0</th>\n",
       "      <th>valcheck1</th>\n",
       "      <th>multiplier_constant</th>\n",
       "      <th>valcheck2</th>\n",
       "    </tr>\n",
       "  </thead>\n",
       "  <tbody>\n",
       "    <tr>\n",
       "      <td>0</td>\n",
       "      <td>test1</td>\n",
       "      <td>6000.0</td>\n",
       "      <td>7.8</td>\n",
       "      <td>6000.0</td>\n",
       "    </tr>\n",
       "    <tr>\n",
       "      <td>1</td>\n",
       "      <td>test2</td>\n",
       "      <td>5000.0</td>\n",
       "      <td>7.8</td>\n",
       "      <td>1000.0</td>\n",
       "    </tr>\n",
       "    <tr>\n",
       "      <td>2</td>\n",
       "      <td>test3</td>\n",
       "      <td>NaN</td>\n",
       "      <td>NaN</td>\n",
       "      <td>NaN</td>\n",
       "    </tr>\n",
       "    <tr>\n",
       "      <td>3</td>\n",
       "      <td>all3</td>\n",
       "      <td>100.0</td>\n",
       "      <td>1.0</td>\n",
       "      <td>10000.0</td>\n",
       "    </tr>\n",
       "  </tbody>\n",
       "</table>\n",
       "</div>"
      ],
      "text/plain": [
       "  Unnamed: 0  valcheck1  multiplier_constant  valcheck2\n",
       "0      test1     6000.0                  7.8     6000.0\n",
       "1      test2     5000.0                  7.8     1000.0\n",
       "2      test3        NaN                  NaN        NaN\n",
       "3       all3      100.0                  1.0    10000.0"
      ]
     },
     "execution_count": 29,
     "metadata": {},
     "output_type": "execute_result"
    }
   ],
   "source": [
    "#test values\n",
    "\n",
    "df = pd.read_excel(r\"/home/gdubs/Documents/projects_test/xsl_checker/files/data1.xlsx\")\n",
    "columns = np.array(df.columns)\n",
    "df\n"
   ]
  }
 ],
 "metadata": {
  "kernelspec": {
   "display_name": "Python 3",
   "language": "python",
   "name": "python3"
  },
  "language_info": {
   "codemirror_mode": {
    "name": "ipython",
    "version": 3
   },
   "file_extension": ".py",
   "mimetype": "text/x-python",
   "name": "python",
   "nbconvert_exporter": "python",
   "pygments_lexer": "ipython3",
   "version": "3.7.4"
  }
 },
 "nbformat": 4,
 "nbformat_minor": 2
}
